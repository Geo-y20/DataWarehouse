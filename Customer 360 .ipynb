{
 "cells": [
  {
   "cell_type": "markdown",
   "metadata": {},
   "source": [
    "# Case Study: Customer 360 for Retail E-commerce\n",
    "## Background\n",
    "An e-commerce company specializes in unique all-occasion gifts and sells products online to customers across the UK and other countries. Their customer data is dispersed across several systems (e.g., CRM, marketing platforms, sales databases), making it difficult to get a complete view of each customer. This fragmentation leads to inconsistent customer experiences and hampers targeted marketing efforts.\n",
    "\n",
    "## Problem Statement\n",
    "The company faces challenges in delivering a personalized customer experience. Data about customer demographics, purchase history, preferences, and interactions are siloed in separate systems, causing:\n",
    "\n",
    "- Inefficiencies in identifying customer needs.\n",
    "- Missed opportunities for targeted recommendations.\n",
    "- Inconsistent messaging across various customer touchpoints.\n",
    "\n",
    "## Project Goals\n",
    "The primary objective is to build a Customer 360 solution by consolidating and analyzing customer data. This data warehouse will enable the company to:\n",
    "\n",
    "1. **Create a Unified Customer View**: Bring together demographics, purchase history, interaction data, and preferences to understand each customer’s journey better.\n",
    "2. **Improve Customer Segmentation**: Segment customers based on their profiles, shopping habits, and preferences.\n",
    "3. **Enhance Marketing Campaigns**: Use segmented customer data for targeted marketing, improving the chances of conversions.\n",
    "4. **Provide Personalized Recommendations**: Enable recommendation algorithms to suggest products that fit the customers’ preferences and past behaviors.\n",
    "\n",
    "## Solution Outline\n",
    "To create a Customer 360 data warehouse, the following steps are proposed:\n",
    "\n",
    "### Data Collection:\n",
    "- Gather customer data from the e-commerce system, CRM, and marketing platforms.\n",
    "- Use the Online Retail II dataset from the UCI Machine Learning Repository, which includes:\n",
    "      - Customer Information: Unique ID, demographic details, and location.\n",
    "      - Purchase History: Product details, quantities, and total purchase amount.\n",
    "      - Sales Transactions: Dates and times of purchases, with itemized transaction details.\n",
    "\n",
    "### Data Transformation (Star Schema Design):\n",
    "- **Fact Table**: The main Sales Fact Table will store quantitative data for each transaction:\n",
    "      - InvoiceNo, Quantity, UnitPrice, CustomerID, StockCode, InvoiceDate.\n",
    "- **Dimension Tables**:\n",
    "      - Customer Dimension: Contains CustomerID, Country, and demographic information.\n",
    "      - Product Dimension: Contains StockCode and Description.\n",
    "      - Date Dimension: Breaks down the InvoiceDate into Year, Month, Day, and Time.\n",
    "\n",
    "### Data Loading into MySQL:\n",
    "- Import the cleaned and transformed data into MySQL as tables.\n",
    "- Establish foreign key relationships between the fact table and each dimension table.\n",
    "\n",
    "### Data Analysis and Reporting:\n",
    "- Generate insights on customer purchase patterns, segment customers based on demographics and purchase frequency, and identify high-value customers.\n",
    "- Measure the effectiveness of marketing campaigns by tracking repeat purchases and sales growth within segmented groups.\n",
    "- Create reports and dashboards that visualize key metrics, such as customer lifetime value, retention rates, and product affinity.\n",
    "\n",
    "## Expected Outcomes\n",
    "Implementing this Customer 360 solution will enable:\n",
    "\n",
    "- Improved Customer Experience: Tailored interactions across customer touchpoints.\n",
    "- Increased Sales: Through personalized recommendations and targeted marketing.\n",
    "- Operational Efficiency: By consolidating data from disparate sources, the company reduces manual data handling and increases the accuracy of insights.\n"
   ]
  },
  {
   "cell_type": "markdown",
   "metadata": {},
   "source": [
    "## Import Libraries "
   ]
  },
  {
   "cell_type": "code",
   "execution_count": 1,
   "metadata": {},
   "outputs": [],
   "source": [
    "import pandas as pd\n",
    "import numpy as np\n"
   ]
  },
  {
   "cell_type": "code",
   "execution_count": 2,
   "metadata": {},
   "outputs": [],
   "source": [
    "df = pd.read_excel('Customer 360 for Retail E-commerce.xlsx')"
   ]
  },
  {
   "cell_type": "code",
   "execution_count": 3,
   "metadata": {},
   "outputs": [
    {
     "data": {
      "text/html": [
       "<div>\n",
       "<style scoped>\n",
       "    .dataframe tbody tr th:only-of-type {\n",
       "        vertical-align: middle;\n",
       "    }\n",
       "\n",
       "    .dataframe tbody tr th {\n",
       "        vertical-align: top;\n",
       "    }\n",
       "\n",
       "    .dataframe thead th {\n",
       "        text-align: right;\n",
       "    }\n",
       "</style>\n",
       "<table border=\"1\" class=\"dataframe\">\n",
       "  <thead>\n",
       "    <tr style=\"text-align: right;\">\n",
       "      <th></th>\n",
       "      <th>Order ID</th>\n",
       "      <th>Customer Name</th>\n",
       "      <th>Category</th>\n",
       "      <th>Sub Category</th>\n",
       "      <th>City</th>\n",
       "      <th>Order Date</th>\n",
       "      <th>Region</th>\n",
       "      <th>Sales</th>\n",
       "      <th>Discount</th>\n",
       "      <th>Profit</th>\n",
       "      <th>State</th>\n",
       "    </tr>\n",
       "  </thead>\n",
       "  <tbody>\n",
       "    <tr>\n",
       "      <th>0</th>\n",
       "      <td>OD1</td>\n",
       "      <td>Harish</td>\n",
       "      <td>Oil &amp; Masala</td>\n",
       "      <td>Masalas</td>\n",
       "      <td>Vellore</td>\n",
       "      <td>2017-11-08</td>\n",
       "      <td>North</td>\n",
       "      <td>1254</td>\n",
       "      <td>0.12</td>\n",
       "      <td>401.28</td>\n",
       "      <td>Tamil Nadu</td>\n",
       "    </tr>\n",
       "    <tr>\n",
       "      <th>1</th>\n",
       "      <td>OD2</td>\n",
       "      <td>Sudha</td>\n",
       "      <td>Beverages</td>\n",
       "      <td>Health Drinks</td>\n",
       "      <td>Krishnagiri</td>\n",
       "      <td>2017-11-08</td>\n",
       "      <td>South</td>\n",
       "      <td>749</td>\n",
       "      <td>0.18</td>\n",
       "      <td>149.80</td>\n",
       "      <td>Tamil Nadu</td>\n",
       "    </tr>\n",
       "    <tr>\n",
       "      <th>2</th>\n",
       "      <td>OD3</td>\n",
       "      <td>Hussain</td>\n",
       "      <td>Food Grains</td>\n",
       "      <td>Atta &amp; Flour</td>\n",
       "      <td>Perambalur</td>\n",
       "      <td>2017-06-12</td>\n",
       "      <td>West</td>\n",
       "      <td>2360</td>\n",
       "      <td>0.21</td>\n",
       "      <td>165.20</td>\n",
       "      <td>Tamil Nadu</td>\n",
       "    </tr>\n",
       "    <tr>\n",
       "      <th>3</th>\n",
       "      <td>OD4</td>\n",
       "      <td>Jackson</td>\n",
       "      <td>Fruits &amp; Veggies</td>\n",
       "      <td>Fresh Vegetables</td>\n",
       "      <td>Dharmapuri</td>\n",
       "      <td>2016-10-11</td>\n",
       "      <td>South</td>\n",
       "      <td>896</td>\n",
       "      <td>0.25</td>\n",
       "      <td>89.60</td>\n",
       "      <td>Tamil Nadu</td>\n",
       "    </tr>\n",
       "    <tr>\n",
       "      <th>4</th>\n",
       "      <td>OD5</td>\n",
       "      <td>Ridhesh</td>\n",
       "      <td>Food Grains</td>\n",
       "      <td>Organic Staples</td>\n",
       "      <td>Ooty</td>\n",
       "      <td>2016-10-11</td>\n",
       "      <td>South</td>\n",
       "      <td>2355</td>\n",
       "      <td>0.26</td>\n",
       "      <td>918.45</td>\n",
       "      <td>Tamil Nadu</td>\n",
       "    </tr>\n",
       "    <tr>\n",
       "      <th>5</th>\n",
       "      <td>OD6</td>\n",
       "      <td>Adavan</td>\n",
       "      <td>Food Grains</td>\n",
       "      <td>Organic Staples</td>\n",
       "      <td>Dharmapuri</td>\n",
       "      <td>2015-06-09</td>\n",
       "      <td>West</td>\n",
       "      <td>2305</td>\n",
       "      <td>0.26</td>\n",
       "      <td>322.70</td>\n",
       "      <td>Tamil Nadu</td>\n",
       "    </tr>\n",
       "    <tr>\n",
       "      <th>6</th>\n",
       "      <td>OD7</td>\n",
       "      <td>Jonas</td>\n",
       "      <td>Fruits &amp; Veggies</td>\n",
       "      <td>Fresh Vegetables</td>\n",
       "      <td>Trichy</td>\n",
       "      <td>2015-06-09</td>\n",
       "      <td>West</td>\n",
       "      <td>826</td>\n",
       "      <td>0.33</td>\n",
       "      <td>346.92</td>\n",
       "      <td>Tamil Nadu</td>\n",
       "    </tr>\n",
       "    <tr>\n",
       "      <th>7</th>\n",
       "      <td>OD8</td>\n",
       "      <td>Hafiz</td>\n",
       "      <td>Fruits &amp; Veggies</td>\n",
       "      <td>Fresh Fruits</td>\n",
       "      <td>Ramanadhapuram</td>\n",
       "      <td>2015-06-09</td>\n",
       "      <td>West</td>\n",
       "      <td>1847</td>\n",
       "      <td>0.32</td>\n",
       "      <td>147.76</td>\n",
       "      <td>Tamil Nadu</td>\n",
       "    </tr>\n",
       "    <tr>\n",
       "      <th>8</th>\n",
       "      <td>OD9</td>\n",
       "      <td>Hafiz</td>\n",
       "      <td>Bakery</td>\n",
       "      <td>Biscuits</td>\n",
       "      <td>Tirunelveli</td>\n",
       "      <td>2015-06-09</td>\n",
       "      <td>West</td>\n",
       "      <td>791</td>\n",
       "      <td>0.23</td>\n",
       "      <td>181.93</td>\n",
       "      <td>Tamil Nadu</td>\n",
       "    </tr>\n",
       "    <tr>\n",
       "      <th>9</th>\n",
       "      <td>OD10</td>\n",
       "      <td>Krithika</td>\n",
       "      <td>Bakery</td>\n",
       "      <td>Cakes</td>\n",
       "      <td>Chennai</td>\n",
       "      <td>2015-06-09</td>\n",
       "      <td>West</td>\n",
       "      <td>1795</td>\n",
       "      <td>0.27</td>\n",
       "      <td>484.65</td>\n",
       "      <td>Tamil Nadu</td>\n",
       "    </tr>\n",
       "  </tbody>\n",
       "</table>\n",
       "</div>"
      ],
      "text/plain": [
       "  Order ID Customer Name          Category      Sub Category            City  \\\n",
       "0      OD1        Harish      Oil & Masala           Masalas         Vellore   \n",
       "1      OD2         Sudha         Beverages     Health Drinks     Krishnagiri   \n",
       "2      OD3       Hussain       Food Grains      Atta & Flour      Perambalur   \n",
       "3      OD4       Jackson  Fruits & Veggies  Fresh Vegetables      Dharmapuri   \n",
       "4      OD5       Ridhesh       Food Grains   Organic Staples            Ooty   \n",
       "5      OD6        Adavan       Food Grains   Organic Staples      Dharmapuri   \n",
       "6      OD7         Jonas  Fruits & Veggies  Fresh Vegetables          Trichy   \n",
       "7      OD8         Hafiz  Fruits & Veggies      Fresh Fruits  Ramanadhapuram   \n",
       "8      OD9         Hafiz            Bakery          Biscuits     Tirunelveli   \n",
       "9     OD10      Krithika            Bakery             Cakes         Chennai   \n",
       "\n",
       "  Order Date Region  Sales  Discount  Profit       State  \n",
       "0 2017-11-08  North   1254      0.12  401.28  Tamil Nadu  \n",
       "1 2017-11-08  South    749      0.18  149.80  Tamil Nadu  \n",
       "2 2017-06-12   West   2360      0.21  165.20  Tamil Nadu  \n",
       "3 2016-10-11  South    896      0.25   89.60  Tamil Nadu  \n",
       "4 2016-10-11  South   2355      0.26  918.45  Tamil Nadu  \n",
       "5 2015-06-09   West   2305      0.26  322.70  Tamil Nadu  \n",
       "6 2015-06-09   West    826      0.33  346.92  Tamil Nadu  \n",
       "7 2015-06-09   West   1847      0.32  147.76  Tamil Nadu  \n",
       "8 2015-06-09   West    791      0.23  181.93  Tamil Nadu  \n",
       "9 2015-06-09   West   1795      0.27  484.65  Tamil Nadu  "
      ]
     },
     "execution_count": 3,
     "metadata": {},
     "output_type": "execute_result"
    }
   ],
   "source": [
    "df.head(10)"
   ]
  },
  {
   "cell_type": "markdown",
   "metadata": {},
   "source": [
    "### 2. Inspect the Data:\n",
    "- Check for missing values:\n",
    "\n"
   ]
  },
  {
   "cell_type": "code",
   "execution_count": 4,
   "metadata": {},
   "outputs": [
    {
     "data": {
      "text/plain": [
       "Order ID         0\n",
       "Customer Name    0\n",
       "Category         0\n",
       "Sub Category     0\n",
       "City             0\n",
       "Order Date       0\n",
       "Region           0\n",
       "Sales            0\n",
       "Discount         0\n",
       "Profit           0\n",
       "State            0\n",
       "dtype: int64"
      ]
     },
     "execution_count": 4,
     "metadata": {},
     "output_type": "execute_result"
    }
   ],
   "source": [
    "df.isnull().sum()\n"
   ]
  },
  {
   "cell_type": "markdown",
   "metadata": {},
   "source": [
    "## Get a summary of the data types:"
   ]
  },
  {
   "cell_type": "code",
   "execution_count": 5,
   "metadata": {},
   "outputs": [
    {
     "name": "stdout",
     "output_type": "stream",
     "text": [
      "<class 'pandas.core.frame.DataFrame'>\n",
      "RangeIndex: 9994 entries, 0 to 9993\n",
      "Data columns (total 11 columns):\n",
      " #   Column         Non-Null Count  Dtype         \n",
      "---  ------         --------------  -----         \n",
      " 0   Order ID       9994 non-null   object        \n",
      " 1   Customer Name  9994 non-null   object        \n",
      " 2   Category       9994 non-null   object        \n",
      " 3   Sub Category   9994 non-null   object        \n",
      " 4   City           9994 non-null   object        \n",
      " 5   Order Date     9994 non-null   datetime64[ns]\n",
      " 6   Region         9994 non-null   object        \n",
      " 7   Sales          9994 non-null   int64         \n",
      " 8   Discount       9994 non-null   float64       \n",
      " 9   Profit         9994 non-null   float64       \n",
      " 10  State          9994 non-null   object        \n",
      "dtypes: datetime64[ns](1), float64(2), int64(1), object(7)\n",
      "memory usage: 859.0+ KB\n"
     ]
    }
   ],
   "source": [
    "df.info()\n"
   ]
  },
  {
   "cell_type": "markdown",
   "metadata": {},
   "source": [
    "## Look for duplicate records:\n"
   ]
  },
  {
   "cell_type": "code",
   "execution_count": 6,
   "metadata": {},
   "outputs": [
    {
     "data": {
      "text/plain": [
       "np.int64(0)"
      ]
     },
     "execution_count": 6,
     "metadata": {},
     "output_type": "execute_result"
    }
   ],
   "source": [
    "df.duplicated().sum()\n"
   ]
  },
  {
   "cell_type": "markdown",
   "metadata": {},
   "source": [
    "## Data Cleaning Steps\n",
    "1. Handle Missing Values\n",
    "\n",
    "- Check for Missing Values: Although you previously checked for nulls, it's essential to confirm that key fields like Order ID, Customer Name, Order Date, and other essential columns have no missing values.\n",
    "\n",
    "2. Remove or Impute:\n",
    "\n",
    "- For rows missing critical fields like Customer Name or Order Date, you may want to drop those rows, as they can’t contribute meaningfully to analysis."
   ]
  },
  {
   "cell_type": "code",
   "execution_count": 7,
   "metadata": {},
   "outputs": [
    {
     "name": "stderr",
     "output_type": "stream",
     "text": [
      "C:\\Users\\User\\AppData\\Local\\Temp\\ipykernel_2592\\2053800101.py:5: FutureWarning: A value is trying to be set on a copy of a DataFrame or Series through chained assignment using an inplace method.\n",
      "The behavior will change in pandas 3.0. This inplace method will never work because the intermediate object on which we are setting values always behaves as a copy.\n",
      "\n",
      "For example, when doing 'df[col].method(value, inplace=True)', try using 'df.method({col: value}, inplace=True)' or df[col] = df[col].method(value) instead, to perform the operation inplace on the original object.\n",
      "\n",
      "\n",
      "  df['Discount'].fillna(0, inplace=True)\n",
      "C:\\Users\\User\\AppData\\Local\\Temp\\ipykernel_2592\\2053800101.py:6: FutureWarning: A value is trying to be set on a copy of a DataFrame or Series through chained assignment using an inplace method.\n",
      "The behavior will change in pandas 3.0. This inplace method will never work because the intermediate object on which we are setting values always behaves as a copy.\n",
      "\n",
      "For example, when doing 'df[col].method(value, inplace=True)', try using 'df.method({col: value}, inplace=True)' or df[col] = df[col].method(value) instead, to perform the operation inplace on the original object.\n",
      "\n",
      "\n",
      "  df['Profit'].fillna(0, inplace=True)\n"
     ]
    }
   ],
   "source": [
    "# Drop rows with missing critical data\n",
    "df.dropna(subset=['Order ID', 'Customer Name', 'Order Date'], inplace=True)\n",
    "\n",
    "# Fill missing values in numeric columns with 0 (if this makes sense for your analysis)\n",
    "df['Discount'].fillna(0, inplace=True)\n",
    "df['Profit'].fillna(0, inplace=True)\n"
   ]
  },
  {
   "cell_type": "markdown",
   "metadata": {},
   "source": [
    "Standardize Formats\n",
    "\n",
    "- Dates: Ensure that Order Date is in a consistent datetime format for easy extraction into year, month, etc."
   ]
  },
  {
   "cell_type": "code",
   "execution_count": 8,
   "metadata": {},
   "outputs": [],
   "source": [
    "df['Order Date'] = pd.to_datetime(df['Order Date'])\n"
   ]
  },
  {
   "cell_type": "markdown",
   "metadata": {},
   "source": [
    "### Text Columns: \n",
    "- Standardize text in fields like Customer Name, City, Category, and Sub Category by converting them to a consistent case (e.g., lowercase) to avoid duplicates due to case differences."
   ]
  },
  {
   "cell_type": "code",
   "execution_count": 9,
   "metadata": {},
   "outputs": [],
   "source": [
    "df['Customer Name'] = df['Customer Name'].str.title()  # Capitalize names\n",
    "df['City'] = df['City'].str.title()\n",
    "df['Category'] = df['Category'].str.title()\n",
    "df['Sub Category'] = df['Sub Category'].str.title()\n"
   ]
  },
  {
   "cell_type": "markdown",
   "metadata": {},
   "source": [
    "### Remove Duplicates\n",
    "\n",
    "- Drop Duplicates in Key Fields: For fields like Order ID, ensure that each transaction is unique. Check for duplicate Order ID entries and drop if necessary."
   ]
  },
  {
   "cell_type": "code",
   "execution_count": 10,
   "metadata": {},
   "outputs": [],
   "source": [
    "df.drop_duplicates(subset=['Order ID'], inplace=True)\n"
   ]
  },
  {
   "cell_type": "markdown",
   "metadata": {},
   "source": [
    "## Verify Numeric Data Integrity\n",
    "\n",
    "Negative or Unrealistic Values: Check for negative or zero values in columns like Sales, Discount, and Profit where they might not make sense (unless negative values indicate returns or refunds).\n",
    "Outliers: Identify and handle outliers in columns like Sales and Profit, which could skew analysis."
   ]
  },
  {
   "cell_type": "code",
   "execution_count": 11,
   "metadata": {},
   "outputs": [],
   "source": [
    "# Example check for negative sales or profit values\n",
    "df = df[df['Sales'] >= 0]\n",
    "df = df[df['Profit'] >= 0]\n"
   ]
  },
  {
   "cell_type": "markdown",
   "metadata": {},
   "source": [
    "## Rename Columns for Consistency\n",
    "\n",
    "- Give columns consistent and descriptive names to match your star schema design."
   ]
  },
  {
   "cell_type": "code",
   "execution_count": 12,
   "metadata": {},
   "outputs": [],
   "source": [
    "df.rename(columns={\n",
    "    'Order ID': 'OrderID',\n",
    "    'Customer Name': 'CustomerName',\n",
    "    'Sub Category': 'SubCategory',\n",
    "    'Order Date': 'OrderDate'\n",
    "}, inplace=True)\n"
   ]
  },
  {
   "cell_type": "markdown",
   "metadata": {},
   "source": [
    "## Data Type Conversions\n",
    "\n",
    "- Ensure columns have the correct data types:\n",
    "\n",
    "      - OrderID should be treated as a string if it’s not purely numeric.\n",
    "      - Sales, Discount, and Profit should be numeric for accurate aggregation and calculation."
   ]
  },
  {
   "cell_type": "code",
   "execution_count": 13,
   "metadata": {},
   "outputs": [],
   "source": [
    "df['OrderID'] = df['OrderID'].astype(str)\n",
    "df['Sales'] = pd.to_numeric(df['Sales'], errors='coerce')\n",
    "df['Discount'] = pd.to_numeric(df['Discount'], errors='coerce')\n",
    "df['Profit'] = pd.to_numeric(df['Profit'], errors='coerce')\n"
   ]
  },
  {
   "cell_type": "code",
   "execution_count": 14,
   "metadata": {},
   "outputs": [
    {
     "name": "stdout",
     "output_type": "stream",
     "text": [
      "OrderID         0\n",
      "CustomerName    0\n",
      "Category        0\n",
      "SubCategory     0\n",
      "City            0\n",
      "OrderDate       0\n",
      "Region          0\n",
      "Sales           0\n",
      "Discount        0\n",
      "Profit          0\n",
      "State           0\n",
      "dtype: int64\n",
      "OrderID                 object\n",
      "CustomerName            object\n",
      "Category                object\n",
      "SubCategory             object\n",
      "City                    object\n",
      "OrderDate       datetime64[ns]\n",
      "Region                  object\n",
      "Sales                    int64\n",
      "Discount               float64\n",
      "Profit                 float64\n",
      "State                   object\n",
      "dtype: object\n"
     ]
    }
   ],
   "source": [
    "print(df.isnull().sum())\n",
    "print(df.dtypes)\n"
   ]
  },
  {
   "cell_type": "markdown",
   "metadata": {},
   "source": [
    "# Star Schema Design for Customer 360\n",
    "\n",
    "This schema is designed to support Customer 360 analytics by consolidating customer data, product information, time details, regional data, and sales transactions into a unified structure. This star schema allows for efficient querying and analysis by linking a central fact table to related dimension tables. Below is a description of each table in the schema.\n",
    "\n",
    "## Dimension and Fact Tables\n",
    "\n",
    "### 1. Customer Dimension (`Customer_Details`)\n",
    "\n",
    "The `Customer_Details` table captures unique information about each customer, including demographic and geographic details. This dimension allows us to segment customers based on location and analyze their purchase behaviors.\n",
    "\n",
    "**Columns:**\n",
    "- `customer_id`: Unique identifier for each customer (Primary Key).\n",
    "- `customer_name`: The name of the customer.\n",
    "- `city`: The city where the customer is located.\n",
    "- `state`: The state where the customer is located.\n",
    "- `region`: The region associated with the customer’s location (e.g., North, South).\n",
    "\n",
    "**Insights:**\n",
    "By including fields like `city`, `state`, and `region`, we can analyze customer trends at various geographic levels, such as identifying top-selling regions or cities and tailoring marketing efforts accordingly.\n",
    "\n",
    "---\n",
    "\n",
    "### 2. Product Dimension (`Product`)\n",
    "\n",
    "The `Product` table contains unique combinations of product categories and subcategories. This dimension enables analysis of product performance by category and subcategory, which can help in understanding customer preferences and inventory management.\n",
    "\n",
    "**Columns:**\n",
    "- `product_id`: Unique identifier for each product (Primary Key).\n",
    "- `category`: Broad classification of products, such as \"Food Grains\" or \"Beverages\".\n",
    "- `subcategory`: A more specific classification within a category, such as \"Atta & Flour\" under \"Food Grains\".\n",
    "\n",
    "**Insights:**\n",
    "Breaking down products by category and subcategory allows for more detailed insights into customer buying patterns. This information can guide inventory planning and highlight opportunities for cross-selling related products.\n",
    "\n",
    "---\n",
    "\n",
    "### 3. Time Dimension (`Time`)\n",
    "\n",
    "The `Time` table captures various components of each order’s date, allowing for time-based analysis. This dimension is crucial for trend analysis, seasonality studies, and tracking performance over different periods.\n",
    "\n",
    "**Columns:**\n",
    "- `time_id`: Unique identifier for each date entry (Primary Key).\n",
    "- `order_date`: The specific date of the transaction.\n",
    "- `day`: Day of the month extracted from the `order_date`.\n",
    "- `month`: Month of the transaction.\n",
    "- `quarter`: Quarter of the transaction (1, 2, 3, or 4).\n",
    "- `year`: Year of the transaction.\n",
    "\n",
    "**Insights:**\n",
    "Having different parts of the date broken out (day, month, quarter, year) allows for flexible time-based analysis. For example, we can compare sales across months, analyze quarterly growth, and identify peak purchase times.\n",
    "\n",
    "---\n",
    "\n",
    "### 4. Region Dimension (`Region`)\n",
    "\n",
    "The `Region` table is used to store unique region names. This dimension simplifies the analysis of customer data across different regions by linking customer locations and sales records to a distinct regional grouping.\n",
    "\n",
    "**Columns:**\n",
    "- `region_id`: Unique identifier for each region (Primary Key).\n",
    "- `region_name`: Name of the region, such as \"North\", \"South\", \"East\", or \"West\".\n",
    "\n",
    "**Insights:**\n",
    "By isolating regions in their own dimension, it becomes easier to perform regional comparisons and pinpoint where certain products or marketing campaigns are performing best. This separation also allows for targeted decision-making based on regional preferences.\n",
    "\n",
    "---\n",
    "\n",
    "### 5. Fact Table (`Sales`)\n",
    "\n",
    "The `Sales` table serves as the central fact table, recording each transaction made by customers. This table is linked to all the dimension tables, allowing us to analyze sales in terms of customer demographics, product details, time of transaction, and region.\n",
    "\n",
    "**Columns:**\n",
    "- `order_id`: Unique identifier for each order (Primary Key).\n",
    "- `customer_id`: Foreign key referencing `customer_id` in `Customer_Details`.\n",
    "- `product_id`: Foreign key referencing `product_id` in `Product`.\n",
    "- `time_id`: Foreign key referencing `time_id` in `Time`.\n",
    "- `region_id`: Foreign key referencing `region_id` in `Region`.\n",
    "- `sales`: The total sales amount for the transaction.\n",
    "- `discount`: The discount applied to the sale (if any).\n",
    "- `profit`: The profit derived from the transaction.\n",
    "\n",
    "**Insights:**\n",
    "The fact table is designed to store quantitative data, which allows for comprehensive analysis of sales performance. With connections to each dimension table, this structure supports various queries, such as:\n",
    "   - Total sales and profit by customer location.\n",
    "   - Sales trends by month, quarter, or year.\n",
    "   - Profit margins across different product categories and regions.\n",
    "\n",
    "---\n",
    "\n",
    "## Summary\n",
    "\n",
    "The star schema design includes four dimension tables (`Customer_Details`, `Product`, `Time`, `Region`) and one central fact table (`Sales`). This structure enables efficient data retrieval and supports a wide range of analytical queries. By organizing data into this schema, we can gain valuable insights into customer behavior, product performance, time-based trends, and regional differences, all of which contribute to a deeper understanding of the business and support data-driven decision-making.\n"
   ]
  },
  {
   "cell_type": "markdown",
   "metadata": {},
   "source": [
    "Lets Do Star Schema Now 👌"
   ]
  },
  {
   "cell_type": "markdown",
   "metadata": {},
   "source": [
    "## 1. Customer Dimension Table (Customer_Details)\n",
    "- Extract unique customer details."
   ]
  },
  {
   "cell_type": "code",
   "execution_count": 26,
   "metadata": {},
   "outputs": [
    {
     "data": {
      "text/html": [
       "<div>\n",
       "<style scoped>\n",
       "    .dataframe tbody tr th:only-of-type {\n",
       "        vertical-align: middle;\n",
       "    }\n",
       "\n",
       "    .dataframe tbody tr th {\n",
       "        vertical-align: top;\n",
       "    }\n",
       "\n",
       "    .dataframe thead th {\n",
       "        text-align: right;\n",
       "    }\n",
       "</style>\n",
       "<table border=\"1\" class=\"dataframe\">\n",
       "  <thead>\n",
       "    <tr style=\"text-align: right;\">\n",
       "      <th></th>\n",
       "      <th>CustomerName</th>\n",
       "      <th>City</th>\n",
       "      <th>State</th>\n",
       "      <th>Region</th>\n",
       "      <th>customer_id</th>\n",
       "    </tr>\n",
       "  </thead>\n",
       "  <tbody>\n",
       "    <tr>\n",
       "      <th>0</th>\n",
       "      <td>Harish</td>\n",
       "      <td>Vellore</td>\n",
       "      <td>Tamil Nadu</td>\n",
       "      <td>North</td>\n",
       "      <td>1</td>\n",
       "    </tr>\n",
       "    <tr>\n",
       "      <th>1</th>\n",
       "      <td>Sudha</td>\n",
       "      <td>Krishnagiri</td>\n",
       "      <td>Tamil Nadu</td>\n",
       "      <td>South</td>\n",
       "      <td>2</td>\n",
       "    </tr>\n",
       "    <tr>\n",
       "      <th>2</th>\n",
       "      <td>Hussain</td>\n",
       "      <td>Perambalur</td>\n",
       "      <td>Tamil Nadu</td>\n",
       "      <td>West</td>\n",
       "      <td>3</td>\n",
       "    </tr>\n",
       "    <tr>\n",
       "      <th>3</th>\n",
       "      <td>Jackson</td>\n",
       "      <td>Dharmapuri</td>\n",
       "      <td>Tamil Nadu</td>\n",
       "      <td>South</td>\n",
       "      <td>4</td>\n",
       "    </tr>\n",
       "    <tr>\n",
       "      <th>4</th>\n",
       "      <td>Ridhesh</td>\n",
       "      <td>Ooty</td>\n",
       "      <td>Tamil Nadu</td>\n",
       "      <td>South</td>\n",
       "      <td>5</td>\n",
       "    </tr>\n",
       "  </tbody>\n",
       "</table>\n",
       "</div>"
      ],
      "text/plain": [
       "  CustomerName         City       State Region  customer_id\n",
       "0       Harish      Vellore  Tamil Nadu  North            1\n",
       "1        Sudha  Krishnagiri  Tamil Nadu  South            2\n",
       "2      Hussain   Perambalur  Tamil Nadu   West            3\n",
       "3      Jackson   Dharmapuri  Tamil Nadu  South            4\n",
       "4      Ridhesh         Ooty  Tamil Nadu  South            5"
      ]
     },
     "execution_count": 26,
     "metadata": {},
     "output_type": "execute_result"
    }
   ],
   "source": [
    "customer_details = df[['CustomerName', 'City', 'State', 'Region']].drop_duplicates()\n",
    "customer_details.reset_index(drop=True, inplace=True)\n",
    "customer_details['customer_id'] = customer_details.index + 1  # Generate unique ID for each customer\n",
    "customer_details.head()\n"
   ]
  },
  {
   "cell_type": "markdown",
   "metadata": {},
   "source": [
    "## 2. Product Dimension Table (Product)\n",
    "- Extract unique product categories and subcategories."
   ]
  },
  {
   "cell_type": "code",
   "execution_count": 27,
   "metadata": {},
   "outputs": [
    {
     "data": {
      "text/html": [
       "<div>\n",
       "<style scoped>\n",
       "    .dataframe tbody tr th:only-of-type {\n",
       "        vertical-align: middle;\n",
       "    }\n",
       "\n",
       "    .dataframe tbody tr th {\n",
       "        vertical-align: top;\n",
       "    }\n",
       "\n",
       "    .dataframe thead th {\n",
       "        text-align: right;\n",
       "    }\n",
       "</style>\n",
       "<table border=\"1\" class=\"dataframe\">\n",
       "  <thead>\n",
       "    <tr style=\"text-align: right;\">\n",
       "      <th></th>\n",
       "      <th>Category</th>\n",
       "      <th>SubCategory</th>\n",
       "      <th>product_id</th>\n",
       "    </tr>\n",
       "  </thead>\n",
       "  <tbody>\n",
       "    <tr>\n",
       "      <th>0</th>\n",
       "      <td>Oil &amp; Masala</td>\n",
       "      <td>Masalas</td>\n",
       "      <td>1</td>\n",
       "    </tr>\n",
       "    <tr>\n",
       "      <th>1</th>\n",
       "      <td>Beverages</td>\n",
       "      <td>Health Drinks</td>\n",
       "      <td>2</td>\n",
       "    </tr>\n",
       "    <tr>\n",
       "      <th>2</th>\n",
       "      <td>Food Grains</td>\n",
       "      <td>Atta &amp; Flour</td>\n",
       "      <td>3</td>\n",
       "    </tr>\n",
       "    <tr>\n",
       "      <th>3</th>\n",
       "      <td>Fruits &amp; Veggies</td>\n",
       "      <td>Fresh Vegetables</td>\n",
       "      <td>4</td>\n",
       "    </tr>\n",
       "    <tr>\n",
       "      <th>4</th>\n",
       "      <td>Food Grains</td>\n",
       "      <td>Organic Staples</td>\n",
       "      <td>5</td>\n",
       "    </tr>\n",
       "  </tbody>\n",
       "</table>\n",
       "</div>"
      ],
      "text/plain": [
       "           Category       SubCategory  product_id\n",
       "0      Oil & Masala           Masalas           1\n",
       "1         Beverages     Health Drinks           2\n",
       "2       Food Grains      Atta & Flour           3\n",
       "3  Fruits & Veggies  Fresh Vegetables           4\n",
       "4       Food Grains   Organic Staples           5"
      ]
     },
     "execution_count": 27,
     "metadata": {},
     "output_type": "execute_result"
    }
   ],
   "source": [
    "product = df[['Category', 'SubCategory']].drop_duplicates()\n",
    "product.reset_index(drop=True, inplace=True)\n",
    "product['product_id'] = product.index + 1  # Generate unique ID for each product\n",
    "product.head()\n"
   ]
  },
  {
   "cell_type": "markdown",
   "metadata": {},
   "source": [
    " ## 3. Time Dimension Table (Time)\n",
    "- Extract date parts from OrderDate."
   ]
  },
  {
   "cell_type": "code",
   "execution_count": 28,
   "metadata": {},
   "outputs": [
    {
     "data": {
      "text/html": [
       "<div>\n",
       "<style scoped>\n",
       "    .dataframe tbody tr th:only-of-type {\n",
       "        vertical-align: middle;\n",
       "    }\n",
       "\n",
       "    .dataframe tbody tr th {\n",
       "        vertical-align: top;\n",
       "    }\n",
       "\n",
       "    .dataframe thead th {\n",
       "        text-align: right;\n",
       "    }\n",
       "</style>\n",
       "<table border=\"1\" class=\"dataframe\">\n",
       "  <thead>\n",
       "    <tr style=\"text-align: right;\">\n",
       "      <th></th>\n",
       "      <th>OrderDate</th>\n",
       "      <th>date</th>\n",
       "      <th>day</th>\n",
       "      <th>month</th>\n",
       "      <th>quarter</th>\n",
       "      <th>year</th>\n",
       "      <th>time_id</th>\n",
       "    </tr>\n",
       "  </thead>\n",
       "  <tbody>\n",
       "    <tr>\n",
       "      <th>0</th>\n",
       "      <td>2017-11-08</td>\n",
       "      <td>2017-11-08</td>\n",
       "      <td>8</td>\n",
       "      <td>11</td>\n",
       "      <td>4</td>\n",
       "      <td>2017</td>\n",
       "      <td>1</td>\n",
       "    </tr>\n",
       "    <tr>\n",
       "      <th>1</th>\n",
       "      <td>2017-06-12</td>\n",
       "      <td>2017-06-12</td>\n",
       "      <td>12</td>\n",
       "      <td>6</td>\n",
       "      <td>2</td>\n",
       "      <td>2017</td>\n",
       "      <td>2</td>\n",
       "    </tr>\n",
       "    <tr>\n",
       "      <th>2</th>\n",
       "      <td>2016-10-11</td>\n",
       "      <td>2016-10-11</td>\n",
       "      <td>11</td>\n",
       "      <td>10</td>\n",
       "      <td>4</td>\n",
       "      <td>2016</td>\n",
       "      <td>3</td>\n",
       "    </tr>\n",
       "    <tr>\n",
       "      <th>3</th>\n",
       "      <td>2015-06-09</td>\n",
       "      <td>2015-06-09</td>\n",
       "      <td>9</td>\n",
       "      <td>6</td>\n",
       "      <td>2</td>\n",
       "      <td>2015</td>\n",
       "      <td>4</td>\n",
       "    </tr>\n",
       "    <tr>\n",
       "      <th>4</th>\n",
       "      <td>2018-04-15</td>\n",
       "      <td>2018-04-15</td>\n",
       "      <td>15</td>\n",
       "      <td>4</td>\n",
       "      <td>2</td>\n",
       "      <td>2018</td>\n",
       "      <td>5</td>\n",
       "    </tr>\n",
       "  </tbody>\n",
       "</table>\n",
       "</div>"
      ],
      "text/plain": [
       "   OrderDate       date  day  month  quarter  year  time_id\n",
       "0 2017-11-08 2017-11-08    8     11        4  2017        1\n",
       "1 2017-06-12 2017-06-12   12      6        2  2017        2\n",
       "2 2016-10-11 2016-10-11   11     10        4  2016        3\n",
       "3 2015-06-09 2015-06-09    9      6        2  2015        4\n",
       "4 2018-04-15 2018-04-15   15      4        2  2018        5"
      ]
     },
     "execution_count": 28,
     "metadata": {},
     "output_type": "execute_result"
    }
   ],
   "source": [
    "df['OrderDate'] = pd.to_datetime(df['OrderDate'])\n",
    "time = df[['OrderDate']].drop_duplicates()\n",
    "time['date'] = time['OrderDate']\n",
    "time['day'] = time['OrderDate'].dt.day\n",
    "time['month'] = time['OrderDate'].dt.month\n",
    "time['quarter'] = time['OrderDate'].dt.quarter\n",
    "time['year'] = time['OrderDate'].dt.year\n",
    "time.reset_index(drop=True, inplace=True)\n",
    "time['time_id'] = time.index + 1  # Generate unique ID for each date\n",
    "time.head()\n"
   ]
  },
  {
   "cell_type": "markdown",
   "metadata": {},
   "source": [
    " ## 4. Region Dimension Table (Region)\n",
    " - Extract unique regions."
   ]
  },
  {
   "cell_type": "code",
   "execution_count": 29,
   "metadata": {},
   "outputs": [
    {
     "data": {
      "text/html": [
       "<div>\n",
       "<style scoped>\n",
       "    .dataframe tbody tr th:only-of-type {\n",
       "        vertical-align: middle;\n",
       "    }\n",
       "\n",
       "    .dataframe tbody tr th {\n",
       "        vertical-align: top;\n",
       "    }\n",
       "\n",
       "    .dataframe thead th {\n",
       "        text-align: right;\n",
       "    }\n",
       "</style>\n",
       "<table border=\"1\" class=\"dataframe\">\n",
       "  <thead>\n",
       "    <tr style=\"text-align: right;\">\n",
       "      <th></th>\n",
       "      <th>Region</th>\n",
       "      <th>region_id</th>\n",
       "    </tr>\n",
       "  </thead>\n",
       "  <tbody>\n",
       "    <tr>\n",
       "      <th>0</th>\n",
       "      <td>North</td>\n",
       "      <td>1</td>\n",
       "    </tr>\n",
       "    <tr>\n",
       "      <th>1</th>\n",
       "      <td>South</td>\n",
       "      <td>2</td>\n",
       "    </tr>\n",
       "    <tr>\n",
       "      <th>2</th>\n",
       "      <td>West</td>\n",
       "      <td>3</td>\n",
       "    </tr>\n",
       "    <tr>\n",
       "      <th>3</th>\n",
       "      <td>Central</td>\n",
       "      <td>4</td>\n",
       "    </tr>\n",
       "    <tr>\n",
       "      <th>4</th>\n",
       "      <td>East</td>\n",
       "      <td>5</td>\n",
       "    </tr>\n",
       "  </tbody>\n",
       "</table>\n",
       "</div>"
      ],
      "text/plain": [
       "    Region  region_id\n",
       "0    North          1\n",
       "1    South          2\n",
       "2     West          3\n",
       "3  Central          4\n",
       "4     East          5"
      ]
     },
     "execution_count": 29,
     "metadata": {},
     "output_type": "execute_result"
    }
   ],
   "source": [
    "region = df[['Region']].drop_duplicates()\n",
    "region.reset_index(drop=True, inplace=True)\n",
    "region['region_id'] = region.index + 1  # Generate unique ID for each region\n",
    "region.head()\n"
   ]
  },
  {
   "cell_type": "markdown",
   "metadata": {},
   "source": [
    "## 5. Fact Table (Sales)\n",
    "- Combine all the IDs into a fact table with the sales data."
   ]
  },
  {
   "cell_type": "code",
   "execution_count": 30,
   "metadata": {},
   "outputs": [
    {
     "data": {
      "text/html": [
       "<div>\n",
       "<style scoped>\n",
       "    .dataframe tbody tr th:only-of-type {\n",
       "        vertical-align: middle;\n",
       "    }\n",
       "\n",
       "    .dataframe tbody tr th {\n",
       "        vertical-align: top;\n",
       "    }\n",
       "\n",
       "    .dataframe thead th {\n",
       "        text-align: right;\n",
       "    }\n",
       "</style>\n",
       "<table border=\"1\" class=\"dataframe\">\n",
       "  <thead>\n",
       "    <tr style=\"text-align: right;\">\n",
       "      <th></th>\n",
       "      <th>order_id</th>\n",
       "      <th>customer_id</th>\n",
       "      <th>product_id</th>\n",
       "      <th>time_id</th>\n",
       "      <th>region_id</th>\n",
       "      <th>Sales</th>\n",
       "      <th>Discount</th>\n",
       "      <th>Profit</th>\n",
       "    </tr>\n",
       "  </thead>\n",
       "  <tbody>\n",
       "    <tr>\n",
       "      <th>0</th>\n",
       "      <td>OD1</td>\n",
       "      <td>1</td>\n",
       "      <td>1</td>\n",
       "      <td>1</td>\n",
       "      <td>1</td>\n",
       "      <td>1254</td>\n",
       "      <td>0.12</td>\n",
       "      <td>401.28</td>\n",
       "    </tr>\n",
       "    <tr>\n",
       "      <th>1</th>\n",
       "      <td>OD1</td>\n",
       "      <td>121</td>\n",
       "      <td>1</td>\n",
       "      <td>1</td>\n",
       "      <td>1</td>\n",
       "      <td>1254</td>\n",
       "      <td>0.12</td>\n",
       "      <td>401.28</td>\n",
       "    </tr>\n",
       "    <tr>\n",
       "      <th>2</th>\n",
       "      <td>OD1</td>\n",
       "      <td>127</td>\n",
       "      <td>1</td>\n",
       "      <td>1</td>\n",
       "      <td>1</td>\n",
       "      <td>1254</td>\n",
       "      <td>0.12</td>\n",
       "      <td>401.28</td>\n",
       "    </tr>\n",
       "    <tr>\n",
       "      <th>3</th>\n",
       "      <td>OD1</td>\n",
       "      <td>133</td>\n",
       "      <td>1</td>\n",
       "      <td>1</td>\n",
       "      <td>1</td>\n",
       "      <td>1254</td>\n",
       "      <td>0.12</td>\n",
       "      <td>401.28</td>\n",
       "    </tr>\n",
       "    <tr>\n",
       "      <th>4</th>\n",
       "      <td>OD1</td>\n",
       "      <td>146</td>\n",
       "      <td>1</td>\n",
       "      <td>1</td>\n",
       "      <td>1</td>\n",
       "      <td>1254</td>\n",
       "      <td>0.12</td>\n",
       "      <td>401.28</td>\n",
       "    </tr>\n",
       "  </tbody>\n",
       "</table>\n",
       "</div>"
      ],
      "text/plain": [
       "  order_id  customer_id  product_id  time_id  region_id  Sales  Discount  \\\n",
       "0      OD1            1           1        1          1   1254      0.12   \n",
       "1      OD1          121           1        1          1   1254      0.12   \n",
       "2      OD1          127           1        1          1   1254      0.12   \n",
       "3      OD1          133           1        1          1   1254      0.12   \n",
       "4      OD1          146           1        1          1   1254      0.12   \n",
       "\n",
       "   Profit  \n",
       "0  401.28  \n",
       "1  401.28  \n",
       "2  401.28  \n",
       "3  401.28  \n",
       "4  401.28  "
      ]
     },
     "execution_count": 30,
     "metadata": {},
     "output_type": "execute_result"
    }
   ],
   "source": [
    "# Merge data with customer, product, time, and region dimensions to get the IDs\n",
    "fact_table = df.merge(customer_details[['CustomerName', 'customer_id']], on='CustomerName', how='left')\n",
    "fact_table = fact_table.merge(product[['Category', 'SubCategory', 'product_id']], on=['Category', 'SubCategory'], how='left')\n",
    "fact_table = fact_table.merge(time[['OrderDate', 'time_id']], on='OrderDate', how='left')\n",
    "fact_table = fact_table.merge(region[['Region', 'region_id']], on='Region', how='left')\n",
    "\n",
    "# Select columns for the fact table\n",
    "fact_table = fact_table[['OrderID', 'customer_id', 'product_id', 'time_id', 'region_id', 'Sales', 'Discount', 'Profit']]\n",
    "fact_table.rename(columns={'OrderID': 'order_id'}, inplace=True)\n",
    "fact_table.head()\n"
   ]
  },
  {
   "cell_type": "code",
   "execution_count": 39,
   "metadata": {},
   "outputs": [],
   "source": [
    "import mysql.connector\n",
    "\n",
    "# Connect to MySQL\n",
    "connection = mysql.connector.connect(\n",
    "    host=\"localhost\",\n",
    "    user=\"root\",         # Replace with your MySQL username\n",
    "    password=\"12345\",     # Replace with your MySQL password\n",
    "    database=\"customer360\" # Ensure this matches the database name you created\n",
    ")\n",
    "\n",
    "cursor = connection.cursor()\n"
   ]
  },
  {
   "cell_type": "code",
   "execution_count": 41,
   "metadata": {},
   "outputs": [
    {
     "name": "stdout",
     "output_type": "stream",
     "text": [
      "CustomerName    object\n",
      "City            object\n",
      "State           object\n",
      "Region          object\n",
      "customer_id      int64\n",
      "dtype: object\n",
      "  CustomerName         City       State Region  customer_id\n",
      "0       Harish      Vellore  Tamil Nadu  North            1\n",
      "1        Sudha  Krishnagiri  Tamil Nadu  South            2\n",
      "2      Hussain   Perambalur  Tamil Nadu   West            3\n",
      "3      Jackson   Dharmapuri  Tamil Nadu  South            4\n",
      "4      Ridhesh         Ooty  Tamil Nadu  South            5\n"
     ]
    }
   ],
   "source": [
    "# Display the first few rows of customer_details to verify data types\n",
    "print(customer_details.dtypes)\n",
    "print(customer_details.head())\n"
   ]
  },
  {
   "cell_type": "code",
   "execution_count": 42,
   "metadata": {},
   "outputs": [],
   "source": [
    "# Insert data into Customer_Details table\n",
    "for _, row in customer_details.iterrows():\n",
    "    sql = \"\"\"\n",
    "    INSERT INTO Customer_Details (customer_id, customer_name, city, state, region)\n",
    "    VALUES (%s, %s, %s, %s, %s)\n",
    "    \"\"\"\n",
    "    # Extract each value individually to ensure correct types\n",
    "    data_tuple = (int(row['customer_id']), row['CustomerName'], row['City'], row['State'], row['Region'])\n",
    "    \n",
    "    # Execute the SQL command with the data tuple\n",
    "    cursor.execute(sql, data_tuple)\n",
    "\n",
    "# Commit the transaction to save changes in the database\n",
    "connection.commit()\n"
   ]
  },
  {
   "cell_type": "code",
   "execution_count": 51,
   "metadata": {},
   "outputs": [
    {
     "name": "stdout",
     "output_type": "stream",
     "text": [
      "Category       object\n",
      "SubCategory    object\n",
      "product_id      int64\n",
      "dtype: object\n"
     ]
    }
   ],
   "source": [
    "# Display the data types and first few rows of the product DataFrame\n",
    "print(product.dtypes)\n",
    "\n"
   ]
  },
  {
   "cell_type": "code",
   "execution_count": 52,
   "metadata": {},
   "outputs": [],
   "source": [
    "# Insert data into Product table\n",
    "for _, row in product.iterrows():\n",
    "    sql = \"INSERT INTO Product (product_id, category, subcategory) VALUES (%s, %s, %s)\"\n",
    "    cursor.execute(sql, (int(row['product_id']), row['Category'], row['SubCategory']))\n",
    "\n",
    "connection.commit()  # Commit changes to the database\n"
   ]
  },
  {
   "cell_type": "code",
   "execution_count": 50,
   "metadata": {},
   "outputs": [
    {
     "name": "stdout",
     "output_type": "stream",
     "text": [
      "OrderDate    datetime64[ns]\n",
      "date         datetime64[ns]\n",
      "day                   int32\n",
      "month                 int32\n",
      "quarter               int32\n",
      "year                  int32\n",
      "time_id               int64\n",
      "dtype: object\n"
     ]
    }
   ],
   "source": [
    "# Display the data types and first few rows of the time DataFrame\n",
    "print(time.dtypes)\n",
    "\n"
   ]
  },
  {
   "cell_type": "code",
   "execution_count": 53,
   "metadata": {},
   "outputs": [],
   "source": [
    "# Insert data into Time table\n",
    "for _, row in time.iterrows():\n",
    "    sql = \"\"\"\n",
    "    INSERT INTO Time (time_id, order_date, day, month, quarter, year)\n",
    "    VALUES (%s, %s, %s, %s, %s, %s)\n",
    "    \"\"\"\n",
    "    cursor.execute(sql, (int(row['time_id']), row['OrderDate'].date(), int(row['day']), int(row['month']), int(row['quarter']), int(row['year'])))\n",
    "\n",
    "connection.commit()  # Commit changes to the database\n"
   ]
  },
  {
   "cell_type": "code",
   "execution_count": 49,
   "metadata": {},
   "outputs": [
    {
     "name": "stdout",
     "output_type": "stream",
     "text": [
      "Region       object\n",
      "region_id     int64\n",
      "dtype: object\n"
     ]
    }
   ],
   "source": [
    "# Display the data types and first few rows of the region DataFrame\n",
    "print(region.dtypes)\n",
    "\n"
   ]
  },
  {
   "cell_type": "code",
   "execution_count": 54,
   "metadata": {},
   "outputs": [],
   "source": [
    "# Insert data into Region table\n",
    "for _, row in region.iterrows():\n",
    "    sql = \"INSERT INTO Region (region_id, region_name) VALUES (%s, %s)\"\n",
    "    cursor.execute(sql, (int(row['region_id']), row['Region']))\n",
    "\n",
    "connection.commit()  # Commit changes to the database\n"
   ]
  },
  {
   "cell_type": "code",
   "execution_count": 66,
   "metadata": {},
   "outputs": [
    {
     "name": "stdout",
     "output_type": "stream",
     "text": [
      "order_id         int16\n",
      "customer_id      int64\n",
      "product_id       int64\n",
      "time_id          int64\n",
      "region_id        int64\n",
      "Sales            int64\n",
      "Discount       float64\n",
      "Profit         float64\n",
      "dtype: object\n"
     ]
    }
   ],
   "source": [
    "# Display the data types and first few rows of the fact_table DataFrame\n",
    "print(fact_table.dtypes)\n",
    "\n"
   ]
  },
  {
   "cell_type": "code",
   "execution_count": 67,
   "metadata": {},
   "outputs": [
    {
     "name": "stdout",
     "output_type": "stream",
     "text": [
      "   order_id  customer_id  product_id  time_id  region_id  Sales  Discount  \\\n",
      "0         1            1           1        1          1   1254      0.12   \n",
      "1         1          121           1        1          1   1254      0.12   \n",
      "2         1          127           1        1          1   1254      0.12   \n",
      "3         1          133           1        1          1   1254      0.12   \n",
      "4         1          146           1        1          1   1254      0.12   \n",
      "\n",
      "   Profit  \n",
      "0  401.28  \n",
      "1  401.28  \n",
      "2  401.28  \n",
      "3  401.28  \n",
      "4  401.28  \n"
     ]
    }
   ],
   "source": [
    "# Generate unique integer IDs for each unique order_id\n",
    "fact_table['order_id'] = fact_table['order_id'].astype('category').cat.codes + 1\n",
    "\n",
    "# Verify the result\n",
    "print(fact_table.head())\n"
   ]
  },
  {
   "cell_type": "code",
   "execution_count": 69,
   "metadata": {},
   "outputs": [
    {
     "name": "stdout",
     "output_type": "stream",
     "text": [
      "   order_id  customer_id  product_id  time_id  region_id  Sales  Discount  \\\n",
      "0         1            1           1        1          1   1254      0.12   \n",
      "1         2          121           1        1          1   1254      0.12   \n",
      "2         3          127           1        1          1   1254      0.12   \n",
      "3         4          133           1        1          1   1254      0.12   \n",
      "4         5          146           1        1          1   1254      0.12   \n",
      "\n",
      "   Profit  \n",
      "0  401.28  \n",
      "1  401.28  \n",
      "2  401.28  \n",
      "3  401.28  \n",
      "4  401.28  \n"
     ]
    }
   ],
   "source": [
    "# Assign unique integer IDs to each row to ensure uniqueness for `order_id`\n",
    "fact_table['order_id'] = range(1, len(fact_table) + 1)\n",
    "\n",
    "# Verify the result\n",
    "print(fact_table[['order_id', 'customer_id', 'product_id', 'time_id', 'region_id', 'Sales', 'Discount', 'Profit']].head())\n"
   ]
  },
  {
   "cell_type": "code",
   "execution_count": 71,
   "metadata": {},
   "outputs": [
    {
     "name": "stdout",
     "output_type": "stream",
     "text": [
      "Data loaded successfully into the Sales table.\n"
     ]
    }
   ],
   "source": [
    "# Clear the Sales table to avoid duplicate primary key conflicts\n",
    "cursor.execute(\"TRUNCATE TABLE Sales\")\n",
    "connection.commit()\n",
    "\n",
    "# Now, proceed with the data insertion\n",
    "for _, row in fact_table.iterrows():\n",
    "    sql = \"\"\"\n",
    "    INSERT INTO Sales (order_id, customer_id, product_id, time_id, region_id, sales, discount, profit)\n",
    "    VALUES (%s, %s, %s, %s, %s, %s, %s, %s)\n",
    "    \"\"\"\n",
    "    cursor.execute(sql, (\n",
    "        row['order_id'], \n",
    "        int(row['customer_id']), \n",
    "        int(row['product_id']), \n",
    "        int(row['time_id']), \n",
    "        int(row['region_id']),\n",
    "        float(row['Sales']), \n",
    "        float(row['Discount']), \n",
    "        float(row['Profit'])\n",
    "    ))\n",
    "\n",
    "# Commit the transaction to save the data in the database\n",
    "connection.commit()\n",
    "\n",
    "print(\"Data loaded successfully into the Sales table.\")\n"
   ]
  },
  {
   "cell_type": "code",
   "execution_count": null,
   "metadata": {},
   "outputs": [],
   "source": []
  }
 ],
 "metadata": {
  "kernelspec": {
   "display_name": "myenv",
   "language": "python",
   "name": "python3"
  },
  "language_info": {
   "codemirror_mode": {
    "name": "ipython",
    "version": 3
   },
   "file_extension": ".py",
   "mimetype": "text/x-python",
   "name": "python",
   "nbconvert_exporter": "python",
   "pygments_lexer": "ipython3",
   "version": "3.11.4"
  }
 },
 "nbformat": 4,
 "nbformat_minor": 2
}
